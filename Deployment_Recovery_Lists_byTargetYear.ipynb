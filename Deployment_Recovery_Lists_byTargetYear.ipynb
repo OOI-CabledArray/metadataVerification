{
 "cells": [
  {
   "cell_type": "code",
   "execution_count": 1,
   "metadata": {},
   "outputs": [],
   "source": [
    "### Compile list of instruments:\n",
    "### - all currently deployed (entries with blank end dates in the deployment sheet)\n",
    "### - all deployed in targetYear\n",
    "### - all recovered in targetYear\n"
   ]
  },
  {
   "cell_type": "code",
   "execution_count": 2,
   "metadata": {},
   "outputs": [],
   "source": [
    "# -*- coding: utf-8 -*-"
   ]
  },
  {
   "cell_type": "code",
   "execution_count": 3,
   "metadata": {},
   "outputs": [],
   "source": [
    "targetYear = 2022"
   ]
  },
  {
   "cell_type": "code",
   "execution_count": 4,
   "metadata": {},
   "outputs": [],
   "source": [
    "from os import path\n",
    "import pandas as pd\n",
    "import os\n",
    "import numpy as np\n",
    "import datetime"
   ]
  },
  {
   "cell_type": "code",
   "execution_count": 5,
   "metadata": {},
   "outputs": [],
   "source": [
    "### Deployment Files\n",
    "InstDeploy = path.dirname('/Users/wruef/githubRepos/asset-management/deployment/')\n",
    "outputFile_deployed = 'reportOuts/deployedInstruments_' + str(targetYear) + '.csv'\n",
    "outputFile_recovered = 'reportOuts/recoveredInstruments_' + str(targetYear) + '.csv'\n",
    "outputFile_current = 'reportOuts/currentDeployments_' + str(targetYear) + '.csv'"
   ]
  },
  {
   "cell_type": "code",
   "execution_count": 6,
   "metadata": {},
   "outputs": [],
   "source": [
    "### Load Instrument deployments and filter for empty end times\n",
    "\n",
    "CabledArray = pd.Series(['CE02SHBP','CE04OSBP','CE04OSPD','CE04OSPS','RS01SBPD','RS01SBPS',\n",
    "                        'RS01SLBS','RS01SUM1','RS03AXBS','RS03AXPD','RS03AXPS','RS03INT2',\n",
    "                        'RS03INT1','RS01SUM2','RS03CCAL','RS03ECAL','RS03ASHS'])\n",
    "deploymentSheets = []\n",
    "for array in CabledArray:\n",
    "    deployFilePath = InstDeploy + '/' + array + '_Deploy.csv' \n",
    "    deploymentSheets.append(deployFilePath)\n",
    "    \n",
    "df = pd.concat([pd.read_csv(f, skip_blank_lines = True, comment='#') for f in deploymentSheets], ignore_index = True)\n"
   ]
  },
  {
   "cell_type": "code",
   "execution_count": 7,
   "metadata": {},
   "outputs": [],
   "source": [
    "### load in instrument list\n",
    "instrumentFile = 'params/RCA-InstrumentList.csv'\n",
    "assetList = pd.read_csv(instrumentFile)\n",
    "\n",
    "asset_dict = assetList.set_index('assetID').T.to_dict('series')"
   ]
  },
  {
   "cell_type": "code",
   "execution_count": 8,
   "metadata": {},
   "outputs": [],
   "source": [
    "df_current = df.loc[df['stopDateTime'].isnull()]"
   ]
  },
  {
   "cell_type": "code",
   "execution_count": 9,
   "metadata": {},
   "outputs": [
    {
     "name": "stderr",
     "output_type": "stream",
     "text": [
      "/var/folders/cy/xccs89nn3dv_w5j017h33t580000gn/T/ipykernel_17609/1756926738.py:2: SettingWithCopyWarning: \n",
      "A value is trying to be set on a copy of a slice from a DataFrame.\n",
      "Try using .loc[row_indexer,col_indexer] = value instead\n",
      "\n",
      "See the caveats in the documentation: https://pandas.pydata.org/pandas-docs/stable/user_guide/indexing.html#returning-a-view-versus-a-copy\n",
      "  df_recovered['recoverYear'] = pd.to_datetime(df_recovered['stopDateTime']).dt.year\n"
     ]
    }
   ],
   "source": [
    "df_recovered = df.loc[df['stopDateTime'].notnull()]\n",
    "df_recovered['recoverYear'] = pd.to_datetime(df_recovered['stopDateTime']).dt.year\n",
    "df_recovered_year = df_recovered[df_recovered['recoverYear'] == targetYear]\n"
   ]
  },
  {
   "cell_type": "code",
   "execution_count": 10,
   "metadata": {},
   "outputs": [],
   "source": [
    "df['deployYear'] = pd.to_datetime(df['startDateTime']).dt.year\n",
    "df_deployed_year = df[df['deployYear'] == targetYear]\n"
   ]
  },
  {
   "cell_type": "code",
   "execution_count": 11,
   "metadata": {},
   "outputs": [],
   "source": [
    "with open(outputFile_current,'w') as f:\n",
    "    f.write('referenceDesignator,Cruise,instrumentType,deployDate,assetID,serialNumber\\n')\n",
    "    for index,deployment in df_current.iterrows():\n",
    "        f.write(\"%s,%s,%s,%s,%s,%s\\n\" % (deployment['Reference Designator'],\n",
    "                                      deployment['CUID_Deploy'],\n",
    "                                      asset_dict[deployment['sensor.uid']]['instrumentType'],\n",
    "                                      deployment['startDateTime'], deployment['sensor.uid'],\n",
    "                                      asset_dict[deployment['sensor.uid']]['mfgSN']))\n",
    "        "
   ]
  },
  {
   "cell_type": "code",
   "execution_count": 12,
   "metadata": {},
   "outputs": [],
   "source": [
    "with open(outputFile_deployed,'w') as f:\n",
    "    f.write('referenceDesignator,Cruise,instrumentType,deployDate,assetID,serialNumber\\n')\n",
    "    for index,deployment in df_deployed_year.iterrows():\n",
    "        f.write(\"%s,%s,%s,%s,%s,%s\\n\" % (deployment['Reference Designator'],\n",
    "                                      deployment['CUID_Deploy'],\n",
    "                                      asset_dict[deployment['sensor.uid']]['instrumentType'],\n",
    "                                      deployment['startDateTime'], deployment['sensor.uid'],\n",
    "                                      asset_dict[deployment['sensor.uid']]['mfgSN']))"
   ]
  },
  {
   "cell_type": "code",
   "execution_count": 13,
   "metadata": {},
   "outputs": [],
   "source": [
    "with open(outputFile_recovered,'w') as f:\n",
    "    f.write('referenceDesignator,Cruise,instrumentType,recoverDate,assetID,serialNumber\\n')\n",
    "    for index,deployment in df_recovered_year.iterrows():\n",
    "        f.write(\"%s,%s,%s,%s,%s,%s\\n\" % (deployment['Reference Designator'],\n",
    "                                      deployment['CUID_Deploy'],\n",
    "                                      asset_dict[deployment['sensor.uid']]['instrumentType'],\n",
    "                                      deployment['stopDateTime'], deployment['sensor.uid'],\n",
    "                                      asset_dict[deployment['sensor.uid']]['mfgSN']))\n",
    "        "
   ]
  }
 ],
 "metadata": {
  "kernelspec": {
   "display_name": "Python 3 (ipykernel)",
   "language": "python",
   "name": "python3"
  },
  "language_info": {
   "codemirror_mode": {
    "name": "ipython",
    "version": 3
   },
   "file_extension": ".py",
   "mimetype": "text/x-python",
   "name": "python",
   "nbconvert_exporter": "python",
   "pygments_lexer": "ipython3",
   "version": "3.9.12"
  }
 },
 "nbformat": 4,
 "nbformat_minor": 2
}
