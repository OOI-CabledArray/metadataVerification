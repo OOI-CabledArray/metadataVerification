{
 "cells": [
  {
   "cell_type": "code",
   "execution_count": 1,
   "metadata": {},
   "outputs": [],
   "source": [
    "# Build deployment history by instrument type"
   ]
  },
  {
   "cell_type": "code",
   "execution_count": 2,
   "metadata": {},
   "outputs": [],
   "source": [
    "# Output csv file for each instrument type, formatted as:\n",
    "# sensorType,referenceDesignator,startTime,endTime,assetID,instrumentSN,calibrationFile"
   ]
  },
  {
   "cell_type": "code",
   "execution_count": 3,
   "metadata": {},
   "outputs": [],
   "source": [
    "### import packages\n",
    "\n",
    "import datetime\n",
    "import metadataFunctions as mf\n",
    "import numpy as np\n",
    "import os\n",
    "from os import path\n",
    "import pandas as pd\n",
    "import re\n",
    "import requests\n",
    "import subprocess\n",
    "from subprocess import Popen\n",
    "import glob\n"
   ]
  },
  {
   "cell_type": "code",
   "execution_count": 4,
   "metadata": {},
   "outputs": [],
   "source": [
    "### setup directory pathways\n",
    "amRepo = 'https://raw.githubusercontent.com/oceanobservatories/asset-management/master'\n",
    "calRepo = 'https://raw.githubusercontent.com/OOI-CabledArray/calibrationFiles/master'\n",
    "\n",
    "fileOutDir = 'tmp/'\n",
    "githubLink = 'https://github.com/oceanobservatories/asset-management/tree/master'\n",
    "calRepoLink = 'https://github.com/OOI-CabledArray/calibrationFiles/blob/master/'\n",
    "\n",
    "### Repo URL to access directory listing\n",
    "amRepo_head = 'https://github.com/oceanobservatories/asset-management/tree/master'\n",
    "calRepo_head = 'https://github.com/OOI-CabledArray/calibrationFiles/tree/master'\n",
    "\n",
    "\n",
    "instrumentFile = 'params/RCA-InstrumentList.csv'"
   ]
  },
  {
   "cell_type": "code",
   "execution_count": 5,
   "metadata": {},
   "outputs": [],
   "source": [
    "### Load in Cabled Array Deployment sheets from OOI asset-management github repo\n",
    "CabledArray = pd.Series(['CE02SHBP','CE04OSBP','CE04OSPD','CE04OSPS','RS01SBPD','RS01SBPS',\n",
    "                        'RS01SLBS','RS01SUM1','RS03AXBS','RS03AXPD','RS03AXPS','RS03INT2',\n",
    "                        'RS03INT1','RS01SUM2','RS03CCAL','RS03ECAL','RS03ASHS'])\n",
    "\n",
    "deploymentSheets = []\n",
    "for array in CabledArray:\n",
    "    deployFilePath = amRepo + '/deployment/' + array + '_Deploy.csv' \n",
    "    deploymentSheets.append(deployFilePath)\n",
    "    \n",
    "df_deploy = pd.concat([pd.read_csv(f, skip_blank_lines = True, comment='#') for f in deploymentSheets], ignore_index = True)\n"
   ]
  },
  {
   "cell_type": "code",
   "execution_count": 6,
   "metadata": {},
   "outputs": [],
   "source": [
    "### load in RCA Instrument list\n",
    "assetList = pd.read_csv(instrumentFile)\n",
    "assetList['mfgSN'] = assetList['mfgSN'].str.split(', ')\n",
    "assetList['instrumentType'] = assetList['instrumentType'].str.split(',')\n"
   ]
  },
  {
   "cell_type": "code",
   "execution_count": 7,
   "metadata": {},
   "outputs": [],
   "source": [
    "### Helper function to load file list from Github repo of calibration file format\n",
    "### Repo URL is the main repo (as opposed to the raw file content base url)\n",
    "### Optional to search for a specific type of file extention (i.e. 'csv')\n",
    "### A file extension of \"*\" will return all files.\n",
    "### Current regex works for calibration directories\n",
    "\n",
    "def github_fileList(repo_url,fileExt):\n",
    "    if '*' in fileExt:\n",
    "        fileExt = '[a-z]*'\n",
    "    \n",
    "    fileRegEx = re.compile('{\"name\":\"(AT.{25}\\.' + fileExt + ')\",')\n",
    "    result = requests.get(repo_url).text\n",
    "    filenameList = re.findall(fileRegEx, result)\n",
    "    \n",
    "    return filenameList"
   ]
  },
  {
   "cell_type": "code",
   "execution_count": 8,
   "metadata": {},
   "outputs": [],
   "source": [
    "### load github calibration directory list for sensors with cal sheets\n",
    "githubFileList = []\n",
    "sensorsWithCals = ['CTDBPN','CTDBPO','CTDPFA','CTDPFB','DOFSTA','DOSTAD','FLCDRA','FLNTUA','FLORDD', \\\n",
    "                   'HYDBBA','HYDLFA','NUTNRA','OBSBBA','OBSSPA','OPTAAC','OPTAAD','PARADA','PCO2WA', \\\n",
    "                   'PCO2WB','PHSENA', 'PHSEND','SPKIRA','TMPSFA']\n",
    "\n",
    "for sensor in sensorsWithCals:\n",
    "    sensorDir = amRepo + '/calibration/' + sensor\n",
    "    github_url = amRepo_head + '/calibration/' + sensor\n",
    "    fileList = github_fileList(github_url,'csv')\n",
    "    for calFile in fileList:\n",
    "        if str.startswith(calFile,'AT'):\n",
    "            githubFileList.append(sensorDir + '/' + calFile)\n",
    "                \n",
    "### load original vendor calibration directory list from OOI-CabledArray github repo\n",
    "calRepoList = []\n",
    "calRepoFileList = []\n",
    "for sensor in sensorsWithCals:\n",
    "    sensorDir = calRepo + sensor\n",
    "    github_url = calRepo_head + '/' + sensor\n",
    "    fileList = github_fileList(github_url,'*')\n",
    "    for calFile in fileList:\n",
    "        if str.startswith(calFile,'AT'):\n",
    "            calRepoList.append(github_url + '/' + calFile)\n",
    "            ###calRepoFileList.append(calFile.split('.')[0])\n",
    "            "
   ]
  },
  {
   "cell_type": "code",
   "execution_count": 9,
   "metadata": {},
   "outputs": [],
   "source": [
    "### Create metadata dictionaries\n",
    "\n",
    "# Deployment sheet Reference Designator key to startDate, AssetID, rawFile\n",
    "df_deploy_sort = df_deploy.sort_values(by=[\"Reference Designator\",\"startDateTime\"],ascending=False)\n",
    "\n",
    "RefDes_dict = {}\n",
    "for i in df_deploy_sort['Reference Designator'].unique():\n",
    "    RefDes_dict[i] = [{'deployDate':datetime.datetime.strptime(df_deploy_sort['startDateTime'][j], '%Y-%m-%dT%H:%M:%S'), 'deployEnd':df_deploy_sort['stopDateTime'][j], 'AssetID':df_deploy_sort['sensor.uid'][j], 'deployNum':df_deploy_sort['deploymentNumber'][j],'lat':df_deploy_sort['lat'][j],'lon':df_deploy_sort['lon'][j],'vendorCalFile': 'none','githubCalFile': 'none','instrumentType': 'none','instrumentSN': 'none'} for j in df_deploy_sort[df_deploy_sort['Reference Designator']==i].index]\n",
    "\n",
    "# RCA AssetID key to mfgSN, instrumentType\n",
    "asset_dict_RCA = assetList.set_index('assetID').T.to_dict('series')\n",
    "\n",
    "# Github sensor cals AssetID key to calibration dates (extracted from fileNames)\n",
    "githubSensorCals = {}\n",
    "for githubFile in githubFileList:\n",
    "    fileLink = githubFile.replace(amRepo,githubLink)\n",
    "    fileBits = re.search(r\"/.*/.*/.*/.*/.*/((.*)__(.*).csv)\",githubFile)\n",
    "    if fileBits:\n",
    "        if fileBits.group(2) not in githubSensorCals:\n",
    "            githubSensorCals[fileBits.group(2)] = {'calFile': []}\n",
    "        githubSensorCals[fileBits.group(2)]['calFile'].append([datetime.datetime.strptime(fileBits.group(3), '%Y%m%d'),fileLink])\n",
    "        \n",
    "# Github sensor cals AssetID key to calibration dates (extracted from fileNames)\n",
    "vendorSensorCals = {}\n",
    "for vendorFile in calRepoList:\n",
    "    fileLink = vendorFile.replace(calRepo,calRepoLink)\n",
    "    fileBits = re.search(r\"/.*/.*/.*/.*/((.*)__([0-9]*).*\\..*$)\",vendorFile)\n",
    "    if fileBits:\n",
    "        if fileBits.group(2) not in vendorSensorCals:\n",
    "            vendorSensorCals[fileBits.group(2)] = {'calFile': []}\n",
    "        vendorSensorCals[fileBits.group(2)]['calFile'].append([datetime.datetime.strptime(fileBits.group(3), '%Y%m%d'),fileLink])\n",
    "        "
   ]
  },
  {
   "cell_type": "code",
   "execution_count": 10,
   "metadata": {},
   "outputs": [],
   "source": [
    "instType = []\n",
    "\n",
    "for key,values in RefDes_dict.items():\n",
    "    for deploy in RefDes_dict[key]:  \n",
    "        #*# lookup instrumentType and instrumentSN\n",
    "        if deploy['AssetID'] in asset_dict_RCA:\n",
    "            deploy['instrumentType'] = '_'.join(asset_dict_RCA[deploy['AssetID']]['instrumentType']).replace('-','')\n",
    "            deploy['instrumentSN'] = asset_dict_RCA[deploy['AssetID']]['mfgSN']\n",
    "        else:\n",
    "            print('AssetID not in RCA Asset List')\n",
    "            print(deploy['AssetID'])\n",
    "            deploy['instrumentType'] = 'noValidType'\n",
    "            deploy['instrumentSN'] = ['noValidSN']\n",
    "        instType.append(deploy['instrumentType'])\n",
    "        #*# assign github calibration file\n",
    "        if deploy['AssetID'] in githubSensorCals:\n",
    "            calHistory = githubSensorCals[deploy['AssetID']]\n",
    "            calDateList = list(filter(lambda d: d[0] < deploy['deployDate'], calHistory['calFile']))\n",
    "            if calDateList:\n",
    "                deploymentCalFile = min(calDateList, key = lambda x: abs(x[0]-deploy['deployDate']))\n",
    "                #*# is calibration file available?\n",
    "                if deploymentCalFile:\n",
    "                    deploy['githubCalFile'] = deploymentCalFile[1]\n",
    "            else:\n",
    "                deploy['githubCalFile'] = 'noValidCalFile'\n",
    "                \n",
    "        #*# assign vendor calibration file\n",
    "        if deploy['AssetID'] in vendorSensorCals:\n",
    "            calHistory = vendorSensorCals[deploy['AssetID']]\n",
    "            calDateList = list(filter(lambda d: d[0] < deploy['deployDate'], calHistory['calFile']))\n",
    "            if calDateList:\n",
    "                ### TODO: add capability to list multiple files as vendor file...i.e. OPTAAC \".cal\" + \".dev\"\n",
    "                deploymentCalFile = min(calDateList, key = lambda x: abs(x[0]-deploy['deployDate']))\n",
    "                #*# is calibration file available?\n",
    "                if deploymentCalFile:\n",
    "                    deploy['vendorCalFile'] = deploymentCalFile[1]\n",
    "            else:\n",
    "                deploy['vendorCalFile'] = 'noValidCalFile'\n",
    "\n",
    "        \n",
    "        "
   ]
  },
  {
   "cell_type": "code",
   "execution_count": 11,
   "metadata": {},
   "outputs": [],
   "source": [
    "instTypes = set(instType)\n",
    "\n",
    "for inst in instTypes:\n",
    "    deploymentList = []\n",
    "    for key,values in RefDes_dict.items():\n",
    "        for deployment in RefDes_dict[key]:\n",
    "            if inst in deployment['instrumentType']:\n",
    "                deploymentList.append([deployment['instrumentType'],key,deployment['deployDate'],deployment['deployEnd'],deployment['AssetID'],deployment['instrumentSN'],deployment['lat'],deployment['lon'],deployment['githubCalFile'],deployment['vendorCalFile']])\n",
    "\n",
    "    deploymentList_sorted = sorted(deploymentList, key = lambda deploymentList: (deploymentList[1], deploymentList[2]))\n",
    "    fileName = fileOutDir + '/' + inst + '_deployments.csv'    \n",
    "    with open(fileName,'w') as f:\n",
    "        f.write('sensorType,referenceDesignator,startTime,endTime,assetID,instrumentSN,lat,lon,githubCalibrationFile,vendorCalibrationFile\\n')\n",
    "        for entry in deploymentList_sorted:\n",
    "            f.write(\"%s,%s,%s,%s,%s,\\\"%s\\\",%s,%s,%s,%s\\n\" % (entry[0],entry[1],entry[2],entry[3],entry[4],entry[5],entry[6],entry[7],entry[8],entry[9]))\n",
    "        "
   ]
  },
  {
   "cell_type": "code",
   "execution_count": 12,
   "metadata": {},
   "outputs": [],
   "source": [
    "\n",
    "keyList = []\n",
    "for inst in instTypes:\n",
    "    for key,values in RefDes_dict.items():\n",
    "        for deployment in RefDes_dict[key]:\n",
    "            if inst in deployment['instrumentType']:\n",
    "                keyList.append(key)\n",
    "\n",
    "keyList_unique = set(keyList)\n",
    "\n",
    "#print(keyList_unique)\n",
    "with open('refDesList.csv','w') as f:\n",
    "    f.write('referenceDesignator\\n')\n",
    "    for entry in keyList_unique:\n",
    "        f.write(\"%s\\n\" % (entry))\n",
    "        "
   ]
  },
  {
   "cell_type": "code",
   "execution_count": null,
   "metadata": {},
   "outputs": [],
   "source": []
  }
 ],
 "metadata": {
  "kernelspec": {
   "display_name": "Python 3 (ipykernel)",
   "language": "python",
   "name": "python3"
  },
  "language_info": {
   "codemirror_mode": {
    "name": "ipython",
    "version": 3
   },
   "file_extension": ".py",
   "mimetype": "text/x-python",
   "name": "python",
   "nbconvert_exporter": "python",
   "pygments_lexer": "ipython3",
   "version": "3.9.18"
  }
 },
 "nbformat": 4,
 "nbformat_minor": 2
}
