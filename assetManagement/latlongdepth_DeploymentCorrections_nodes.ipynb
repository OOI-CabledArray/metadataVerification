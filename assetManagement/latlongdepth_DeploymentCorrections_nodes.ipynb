{
 "cells": [
  {
   "cell_type": "code",
   "execution_count": 1,
   "metadata": {},
   "outputs": [],
   "source": [
    "### Replace lat/long/depth in deployment sheets with verified gold standard values from RCA sheet\n",
    "### Script outputs all deployment lines to a single file, sorted by reference designator"
   ]
  },
  {
   "cell_type": "code",
   "execution_count": 2,
   "metadata": {},
   "outputs": [],
   "source": [
    "### import packages\n",
    "import datetime\n",
    "import pandas as pd\n",
    "from os import path\n"
   ]
  },
  {
   "cell_type": "code",
   "execution_count": 3,
   "metadata": {},
   "outputs": [],
   "source": [
    "### setup directory pathways\n",
    "correctedFile = ('tmp/correctedDeployments_nodes.csv')\n",
    "locationFilePath = 'https://raw.githubusercontent.com/OOI-CabledArray/deployments/main/'\n"
   ]
  },
  {
   "cell_type": "code",
   "execution_count": 4,
   "metadata": {},
   "outputs": [],
   "source": [
    "### load in lat/long/depths from csv sheet\n",
    "NodeFileName = locationFilePath + 'positions/NODE_locations.csv'\n",
    "df_latlondepth_node = pd.read_csv(NodeFileName,dtype=str,keep_default_na=False, na_values=['N/A'])\n",
    "df_latlondepth_node = df_latlondepth_node.fillna(-9999999)\n",
    "latlondepth_node_dict = {}\n",
    "for i in df_latlondepth_node['referenceDesignator'].unique():\n",
    "    latlondepth_node_dict[i] = [{'deployYear':df_latlondepth_node['deployYear'][j], 'deployment':df_latlondepth_node['deployment'][j], 'lat':df_latlondepth_node['latitude'][j],'lon':df_latlondepth_node['longitude'][j],'deploymentDepth':df_latlondepth_node['deploymentDepth'][j],'waterDepth':df_latlondepth_node['waterDepth'][j],} for j in df_latlondepth_node[df_latlondepth_node['referenceDesignator']==i].index]\n"
   ]
  },
  {
   "cell_type": "code",
   "execution_count": 5,
   "metadata": {},
   "outputs": [],
   "source": [
    "### Load in Node deployment sheets from OOI-CabledArray deployment github repo   \n",
    "NodeDeployFileName = locationFilePath + 'NODE_deployments.csv'\n",
    "df_deploy = pd.read_csv(NodeDeployFileName, skip_blank_lines = True)\n",
    "df_deploy = df_deploy.fillna(-9999999)"
   ]
  },
  {
   "cell_type": "code",
   "execution_count": 6,
   "metadata": {},
   "outputs": [],
   "source": [
    "### interate through the deployment sheet dataframe by row; \n",
    "### if lat/lon/deployment_depth/water_depth are different betweeen\n",
    "### the instrument position sheet and deployment sheet, replace\n",
    "### deployment sheet values with those from the instrument sheet.\n",
    "### subdeployment code in place to identify matching deployments when\n",
    "### there are multiple deployments per year.\n",
    "### Track which rows are not changed in order to drop those from the final\n",
    "### dataframe before printing to csv.\n",
    "\n",
    "changeIndex = []\n",
    "for index, row in df_deploy.iterrows():\n",
    "    change = False\n",
    "    refDes = row['Reference Designator']\n",
    "    dt = datetime.datetime.strptime(row['startDateTime'], '%Y-%m-%dT%H:%M:%S')\n",
    "    deployYear = str(dt.year)\n",
    "    deployNumber = str(row['deploymentNumber'])\n",
    "    if refDes in latlondepth_node_dict.keys():\n",
    "        deployment = [x for x in latlondepth_node_dict[refDes] if deployYear in x['deployYear']] \n",
    "    else:\n",
    "        deployment = []\n",
    "        print(\"error:  no position entries for \" + refDes + \" for \" + deployYear)\n",
    "    if len(deployment) != 1:\n",
    "        if len(deployment) > 1:\n",
    "            subDeployment = [x for x in deployment if deployNumber in x['deployment']]\n",
    "            if len(subDeployment) == 0:\n",
    "                print(\"error obtaining new position: no entries for year and deployment number for \" + refDes + ':' + deployYear + ':' + deployNumber)\n",
    "            elif len(subDeployment) > 1:\n",
    "                print(\"error obtaining new position: multiple entries for year and deployment number for \" + refDes + ':' + deployYear + ':' + deployNumber)\n",
    "            else:\n",
    "                if row['lat'] != float(subDeployment[0]['lat']):\n",
    "                    print('lat does not match for {} in {}!'.format(refDes,deployYear))\n",
    "                    print('subdeploy changing {} to {}'.format(str(row['lat']),subDeployment[0]['lat']))\n",
    "                    df_deploy.at[index, 'lat'] = subDeployment[0]['lat']\n",
    "                    change = True\n",
    "                if row['lon'] != float(subDeployment[0]['lon']):\n",
    "                    print('lon does not match for {} in {}!'.format(refDes,deployYear))\n",
    "                    print('subdeploy changing {} to {}'.format(str(row['lon']),subDeployment[0]['lon']))\n",
    "                    df_deploy.at[index, 'lon'] = subDeployment[0]['lon']\n",
    "                    change = True\n",
    "                if row['deployment_depth'] != float(subDeployment[0]['deploymentDepth']):\n",
    "                    print('deployment depth does not match for {} in {}!'.format(refDes,deployYear))\n",
    "                    print('subdeploy changing {} to {}'.format(str(row['deployment_depth']),subDeployment[0]['deploymentDepth']))\n",
    "                    df_deploy.at[index, 'deployment_depth'] = str(subDeployment[0]['deploymentDepth'])\n",
    "                    change = True\n",
    "                if row['water_depth'] != float(subDeployment[0]['waterDepth']):\n",
    "                    print('water depth does not match for {} in {}!'.format(refDes,deployYear))\n",
    "                    print('subdeploy changing {} to {}'.format(str(row['water_depth']),subDeployment[0]['waterDepth']))\n",
    "                    df_deploy.at[index, 'water_depth'] = str(subDeployment[0]['waterDepth'])\n",
    "                    change = True\n",
    "        elif len(deployment) == 0:\n",
    "            print(\"error obtaining new position: no entries for \" + refDes + ':' + deployYear)\n",
    "    else:\n",
    "        if row['lat'] != float(deployment[0]['lat']):\n",
    "            print('lat does not match for {} in {}!'.format(refDes,deployYear))\n",
    "            print('deploy changing {} to {}'.format(str(row['lat']),deployment[0]['lat']))\n",
    "            df_deploy.at[index, 'lat'] = deployment[0]['lat']\n",
    "            change = True\n",
    "        if row['lon'] != float(deployment[0]['lon']):\n",
    "            print('lon does not match for {} in {}!'.format(refDes,deployYear))\n",
    "            print('deploy changing {} to {}'.format(str(row['lon']),deployment[0]['lon']))\n",
    "            df_deploy.at[index, 'lon'] = deployment[0]['lon']\n",
    "            change = True\n",
    "        if row['deployment_depth'] != float(deployment[0]['deploymentDepth']):\n",
    "            print('deployment depth does not match for {} in {}!'.format(refDes,deployYear))\n",
    "            print('deploy changing {} to {}'.format(str(row['deployment_depth']),deployment[0]['deploymentDepth']))\n",
    "            df_deploy.at[index, 'deployment_depth'] = str(deployment[0]['deploymentDepth'])\n",
    "            change = True\n",
    "        if row['water_depth'] != float(deployment[0]['waterDepth']):\n",
    "            print('water depth does not match for {} in {}!'.format(refDes,deployYear))\n",
    "            print('deploy changing {} to {}'.format(str(row['water_depth']),deployment[0]['waterDepth']))\n",
    "            df_deploy.at[index, 'water_depth'] = str(deployment[0]['waterDepth'])\n",
    "            change = True\n",
    "    if not change:\n",
    "        changeIndex.append(index)\n",
    "        \n",
    "   "
   ]
  },
  {
   "cell_type": "code",
   "execution_count": 7,
   "metadata": {},
   "outputs": [],
   "source": [
    "### drop rows that are unchanged, format empty cells, and add 'N/A' for \n",
    "### deployment_depth of profilers.\n",
    "### print to csv file in tmp directory;\n",
    "### all changed deployment lines are exported to a single file.\n",
    "df_deploy = df_deploy.drop(changeIndex)\n",
    "df_deploy['deployment_depth']= df_deploy['deployment_depth'].astype(int)\n",
    "df_deploy['deploymentNumber']= df_deploy['deploymentNumber'].astype(int)\n",
    "df_deploy['versionNumber']= df_deploy['versionNumber'].astype(int)\n",
    "df_deploy['deployment_depth'] = df_deploy['deployment_depth'].replace(-9999999,'N/A')\n",
    "df_deploy = df_deploy.replace(-9999999, None)\n",
    "\n",
    "df_deploy.to_csv(correctedFile, index=False)"
   ]
  },
  {
   "cell_type": "code",
   "execution_count": null,
   "metadata": {},
   "outputs": [],
   "source": []
  },
  {
   "cell_type": "code",
   "execution_count": null,
   "metadata": {},
   "outputs": [],
   "source": []
  }
 ],
 "metadata": {
  "kernelspec": {
   "display_name": "Python 3 (ipykernel)",
   "language": "python",
   "name": "python3"
  },
  "language_info": {
   "codemirror_mode": {
    "name": "ipython",
    "version": 3
   },
   "file_extension": ".py",
   "mimetype": "text/x-python",
   "name": "python",
   "nbconvert_exporter": "python",
   "pygments_lexer": "ipython3",
   "version": "3.9.12"
  }
 },
 "nbformat": 4,
 "nbformat_minor": 2
}
