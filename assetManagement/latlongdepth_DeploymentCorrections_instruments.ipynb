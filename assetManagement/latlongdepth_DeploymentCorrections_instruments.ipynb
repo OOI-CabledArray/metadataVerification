{
 "cells": [
  {
   "cell_type": "code",
   "execution_count": 1,
   "metadata": {},
   "outputs": [],
   "source": [
    "### Replace lat/long/depth in deployment sheets with verified gold standard values from RCA sheet\n",
    "### Script outputs all deployment lines to a single file, sorted by reference designator"
   ]
  },
  {
   "cell_type": "code",
   "execution_count": 2,
   "metadata": {},
   "outputs": [],
   "source": [
    "### import packages\n",
    "import datetime\n",
    "import pandas as pd\n",
    "from os import path\n"
   ]
  },
  {
   "cell_type": "code",
   "execution_count": 3,
   "metadata": {},
   "outputs": [],
   "source": [
    "### setup directory pathways\n",
    "amRepo = 'https://raw.githubusercontent.com/oceanobservatories/asset-management/master/deployment/'\n",
    "correctedFile = ('tmp/correctedDeployments_instruments.csv')\n",
    "locationFilePath = 'https://raw.githubusercontent.com/OOI-CabledArray/deployments/main/positions/'\n"
   ]
  },
  {
   "cell_type": "code",
   "execution_count": 4,
   "metadata": {},
   "outputs": [],
   "source": [
    "### load in lat/long/depths from csv sheet\n",
    "InstFileName = locationFilePath + 'INSTRUMENT_locations.csv'\n",
    "df_latlondepth_inst = pd.read_csv(InstFileName,dtype=str,keep_default_na=False, na_values=['N/A'])\n",
    "df_latlondepth_inst = df_latlondepth_inst.fillna(-9999999)\n",
    "latlongdepth_inst_dict = {}\n",
    "for i in df_latlondepth_inst['referenceDesignator'].unique():\n",
    "    latlongdepth_inst_dict[i] = [{'deployYear':df_latlondepth_inst['deployYear'][j], 'deployment':df_latlondepth_inst['deployment'][j], 'lat':df_latlondepth_inst['latitude'][j],'lon':df_latlondepth_inst['longitude'][j],'deploymentDepth':df_latlondepth_inst['deploymentDepth'][j],'waterDepth':df_latlondepth_inst['waterDepth'][j],} for j in df_latlondepth_inst[df_latlondepth_inst['referenceDesignator']==i].index]\n"
   ]
  },
  {
   "cell_type": "code",
   "execution_count": 5,
   "metadata": {},
   "outputs": [],
   "source": [
    "### Load in Cabled Array Deployment sheets from OOI asset-management github repo\n",
    "CabledArray = pd.Series(['CE02SHBP','CE04OSBP','CE04OSPD','CE04OSPS','RS01SBPD','RS01SBPS',\n",
    "                        'RS01SLBS','RS01SUM1','RS03AXBS','RS03AXPD','RS03AXPS','RS03INT2',\n",
    "                        'RS03INT1','RS01SUM2','RS03CCAL','RS03ECAL','RS03ASHS'])\n",
    "\n",
    "deploymentSheets = []\n",
    "for array in CabledArray:\n",
    "    deployFilePath = amRepo + array + '_Deploy.csv' \n",
    "    deploymentSheets.append(deployFilePath)\n",
    "    \n",
    "df_deploy = pd.concat([pd.read_csv(f, skip_blank_lines = True, comment='#') for f in deploymentSheets], ignore_index = True)\n",
    "df_deploy = df_deploy.fillna(-9999999)"
   ]
  },
  {
   "cell_type": "code",
   "execution_count": 6,
   "metadata": {},
   "outputs": [
    {
     "name": "stdout",
     "output_type": "stream",
     "text": [
      "error obtaining new position: no entries for RS03ECAL-MJ03E-06-BOTPTA302:2014\n"
     ]
    }
   ],
   "source": [
    "### interate through the deployment sheet dataframe by row; \n",
    "### if lat/lon/deployment_depth/water_depth are different betweeen\n",
    "### the instrument position sheet and deployment sheet, replace\n",
    "### deployment sheet values with those from the instrument sheet.\n",
    "### subdeployment code in place to identify matching deployments when\n",
    "### there are multiple deployments per year.\n",
    "### Track which rows are not changed in order to drop those from the final\n",
    "### dataframe before printing to csv.\n",
    "\n",
    "changeIndex = []\n",
    "for index, row in df_deploy.iterrows():\n",
    "    change = False\n",
    "    refDes = row['Reference Designator']\n",
    "    dt = datetime.datetime.strptime(row['startDateTime'], '%Y-%m-%dT%H:%M:%S')\n",
    "    deployYear = str(dt.year)\n",
    "    deployNumber = str(row['deploymentNumber'])\n",
    "    if refDes in latlongdepth_inst_dict.keys():\n",
    "        deployment = [x for x in latlongdepth_inst_dict[refDes] if deployYear in x['deployYear']] \n",
    "    else:\n",
    "        deployment = []\n",
    "        print(\"error:  no position entries for \" + refDes + \" for \" + deployYear)\n",
    "    if len(deployment) != 1:\n",
    "        if len(deployment) > 1:\n",
    "            subDeployment = [x for x in deployment if deployNumber in x['deployment']]\n",
    "            if len(subDeployment) == 0:\n",
    "                print(\"error obtaining new position: no entries for year and deployment number for \" + refDes + ':' + deployYear + ':' + deployNumber)\n",
    "            elif len(subDeployment) > 1:\n",
    "                print(\"error obtaining new position: multiple entries for year and deployment number for \" + refDes + ':' + deployYear + ':' + deployNumber)\n",
    "            else:\n",
    "                if row['lat'] != float(subDeployment[0]['lat']):\n",
    "                    #print('lat does not match for {} in {}!'.format(refDes,deployYear))\n",
    "                    #print('changing {} to {}'.format(str(row['lat']),subDeployment[0]['lat']))\n",
    "                    df_deploy.at[index, 'lat'] = subDeployment[0]['lat']\n",
    "                    change = True\n",
    "                if row['lon'] != float(subDeployment[0]['lon']):\n",
    "                    #print('lon does not match for {} in {}!'.format(refDes,deployYear))\n",
    "                    #print('changing {} to {}'.format(str(row['lon']),subDeployment[0]['lon']))\n",
    "                    df_deploy.at[index, 'lon'] = subDeployment[0]['lon']\n",
    "                    change = True\n",
    "                if row['deployment_depth'] != float(subDeployment[0]['deploymentDepth']):\n",
    "                    #print('deployment depth does not match for {} in {}!'.format(refDes,deployYear))\n",
    "                    #print('changing {} to {}'.format(str(row['deployment_depth']),subDeployment[0]['deploymentDepth']))\n",
    "                    df_deploy.at[index, 'deployment_depth'] = str(subDeployment[0]['deploymentDepth'])\n",
    "                    change = True\n",
    "                if row['water_depth'] != float(subDeployment[0]['waterDepth']):\n",
    "                    #print('water depth does not match for {} in {}!'.format(refDes,deployYear))\n",
    "                    #print('changing {} to {}'.format(str(row['water_depth']),subDeployment[0]['waterDepth']))\n",
    "                    df_deploy.at[index, 'water_depth'] = str(subDeployment[0]['waterDepth'])\n",
    "                    change = True\n",
    "        elif len(deployment) == 0:\n",
    "            print(\"error obtaining new position: no entries for \" + refDes + ':' + deployYear)\n",
    "    else:\n",
    "        if row['lat'] != float(deployment[0]['lat']):\n",
    "            #print('lat does not match for {} in {}!'.format(refDes,deployYear))\n",
    "            #print('changing {} to {}'.format(str(row['lat']),deployment[0]['lat']))\n",
    "            df_deploy.at[index, 'lat'] = deployment[0]['lat']\n",
    "            change = True\n",
    "        if row['lon'] != float(deployment[0]['lon']):\n",
    "            #print('lon does not match for {} in {}!'.format(refDes,deployYear))\n",
    "            #print('changing {} to {}'.format(str(row['lon']),deployment[0]['lon']))\n",
    "            df_deploy.at[index, 'lon'] = deployment[0]['lon']\n",
    "            change = True\n",
    "        if row['deployment_depth'] != float(deployment[0]['deploymentDepth']):\n",
    "            #print('deployment depth does not match for {} in {}!'.format(refDes,deployYear))\n",
    "            #print('changing {} to {}'.format(str(row['deployment_depth']),deployment[0]['deploymentDepth']))\n",
    "            df_deploy.at[index, 'deployment_depth'] = str(deployment[0]['deploymentDepth'])\n",
    "            change = True\n",
    "        if row['water_depth'] != float(deployment[0]['waterDepth']):\n",
    "            #print('water depth does not match for {} in {}!'.format(refDes,deployYear))\n",
    "            #print('changing {} to {}'.format(str(row['water_depth']),deployment[0]['waterDepth']))\n",
    "            df_deploy.at[index, 'water_depth'] = str(deployment[0]['waterDepth'])\n",
    "            change = True\n",
    "    if not change:\n",
    "        changeIndex.append(index)\n",
    "        \n",
    "   "
   ]
  },
  {
   "cell_type": "code",
   "execution_count": null,
   "metadata": {},
   "outputs": [],
   "source": [
    "### drop rows that are unchanged, format empty cells, and add 'N/A' for \n",
    "### deployment_depth of profilers.\n",
    "### print to csv file in tmp directory;\n",
    "### all changed deployment lines are exported to a single file.\n",
    "df_deploy = df_deploy.drop(changeIndex)\n",
    "df_deploy['deployment_depth']= df_deploy['deployment_depth'].astype(int)\n",
    "df_deploy['deploymentNumber']= df_deploy['deploymentNumber'].astype(int)\n",
    "df_deploy['versionNumber']= df_deploy['versionNumber'].astype(int)\n",
    "df_deploy['deployment_depth'] = df_deploy['deployment_depth'].replace(-9999999,'N/A')\n",
    "df_deploy = df_deploy.replace(-9999999, None)\n",
    "\n",
    "df_deploy.to_csv(correctedFile, index=False)"
   ]
  },
  {
   "cell_type": "code",
   "execution_count": null,
   "metadata": {},
   "outputs": [],
   "source": []
  }
 ],
 "metadata": {
  "kernelspec": {
   "display_name": "Python 3 (ipykernel)",
   "language": "python",
   "name": "python3"
  },
  "language_info": {
   "codemirror_mode": {
    "name": "ipython",
    "version": 3
   },
   "file_extension": ".py",
   "mimetype": "text/x-python",
   "name": "python",
   "nbconvert_exporter": "python",
   "pygments_lexer": "ipython3",
   "version": "3.9.12"
  }
 },
 "nbformat": 4,
 "nbformat_minor": 2
}
